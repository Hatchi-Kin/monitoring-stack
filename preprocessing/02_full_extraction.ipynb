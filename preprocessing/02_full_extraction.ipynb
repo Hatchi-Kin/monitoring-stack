{
 "cells": [
  {
   "cell_type": "code",
   "execution_count": 12,
   "metadata": {},
   "outputs": [
    {
     "name": "stdout",
     "output_type": "stream",
     "text": [
      "Num GPUs: 1\n"
     ]
    }
   ],
   "source": [
    "import os\n",
    "os.environ['TF_CPP_MIN_LOG_LEVEL'] = '3'  # or any {'0', '1', '2'}\n",
    "import pickle\n",
    "from tqdm import tqdm\n",
    "\n",
    "from utils.music_utils import *\n",
    "\n",
    "from pathlib import Path\n",
    "import numpy as np\n",
    "\n",
    "from utils.extract_openl3_embeddings import EmbeddingsOpenL3\n",
    "from essentia.standard import MonoLoader, TensorflowPredictEffnetDiscogs, TensorflowPredict2D\n",
    "\n",
    "import tensorflow as tf\n",
    "tf.config.run_functions_eagerly(True)\n",
    "\n",
    "os.environ['TF_XLA_FLAGS'] = '--tf_xla_enable_xla_devices'\n",
    "physical_devices = tf.config.list_physical_devices('GPU')\n",
    "if physical_devices:\n",
    "   tf.config.experimental.set_memory_growth(physical_devices[0], True)\n",
    "else:\n",
    "   print(\"No GPU found. Please ensure you have installed TensorFlow correctly\")\n",
    "print(\"Num GPUs:\", len(physical_devices))"
   ]
  },
  {
   "cell_type": "code",
   "execution_count": 13,
   "metadata": {},
   "outputs": [],
   "source": [
    "DATASET = \"MegaSet\"\n",
    "               \n",
    "CLASSES = \"utils/mtg_jamendo_genre.json\"\n",
    "\n",
    "embedding_87_model = TensorflowPredictEffnetDiscogs(graphFilename=\"utils/discogs-effnet-bs64-1.pb\", output=\"PartitionedCall:1\")\n",
    "prediction_87_model = TensorflowPredict2D(graphFilename=\"utils/mtg_jamendo_genre-discogs-effnet-1.pb\")\n",
    "\n",
    "embedding_512_model = EmbeddingsOpenL3(\"utils/openl3-music-mel128-emb512-3.pb\")"
   ]
  },
  {
   "cell_type": "code",
   "execution_count": 14,
   "metadata": {},
   "outputs": [
    {
     "name": "stdout",
     "output_type": "stream",
     "text": [
      "Inna Crisis/Inna crisis - Time is now/10 - Don't be scared.mp3 ['reggae', 'dub', 'rock', 'pop', 'electronic']\n"
     ]
    }
   ],
   "source": [
    "random_mp3 = pick_random_mp3(DATASET)\n",
    "if check_predictions_87(random_mp3):\n",
    "    print(str(random_mp3)[8:], get_top_5_genres(random_mp3, CLASSES))\n",
    "else:\n",
    "    print(\"No predictions for\\n\")\n",
    "    print_info(random_mp3)"
   ]
  },
  {
   "cell_type": "code",
   "execution_count": 15,
   "metadata": {},
   "outputs": [],
   "source": [
    "def extract_predictions_87(mp3_file_path, embedding_model, prediction_model):\n",
    "    try:\n",
    "        audio = MonoLoader(filename=mp3_file_path, sampleRate=16000, resampleQuality=2)()\n",
    "        embeddings = embedding_model(audio)\n",
    "        predictions = prediction_model(embeddings)\n",
    "        averaged_predictions = np.mean(predictions, axis=0)\n",
    "        return averaged_predictions\n",
    "    except Exception as e:\n",
    "        print(f\"Error extracting predictions from {mp3_file_path}: {e}\")\n",
    "        return None\n",
    "\n",
    "counter = 0"
   ]
  },
  {
   "cell_type": "code",
   "execution_count": 16,
   "metadata": {},
   "outputs": [],
   "source": [
    "def extract_embeddings_512(file_path, extractor):\n",
    "    try:\n",
    "        vector = extractor.compute(file_path)\n",
    "        embedding = vector.mean(axis=0)\n",
    "        return embedding\n",
    "    except Exception as e:\n",
    "        print(f\"Error extracting embeddings from {file_path}: {e}\")\n",
    "        return None"
   ]
  },
  {
   "cell_type": "code",
   "execution_count": 22,
   "metadata": {},
   "outputs": [],
   "source": [
    "# loop over every mp3 file in the dataset and save the path as a string in a list\n",
    "\n",
    "list_of_mp3s = []\n",
    "\n",
    "for path in Path(DATASET).rglob('*.mp3'):\n",
    "    list_of_mp3s.append(str(path))"
   ]
  },
  {
   "cell_type": "code",
   "execution_count": 23,
   "metadata": {},
   "outputs": [
    {
     "name": "stdout",
     "output_type": "stream",
     "text": [
      "Invalid files: 0\n"
     ]
    }
   ],
   "source": [
    "invalid_files = []\n",
    "for mp3 in list_of_mp3s:\n",
    "    if not check_predictions_87(mp3) or not check_embeddings_512(mp3):\n",
    "        invalid_files.append(mp3)\n",
    "        \n",
    "print(f\"Invalid files: {len(invalid_files)}\")"
   ]
  },
  {
   "cell_type": "code",
   "execution_count": 19,
   "metadata": {},
   "outputs": [
    {
     "name": "stderr",
     "output_type": "stream",
     "text": [
      "100%|██████████| 100/100 [02:33<00:00,  1.53s/it]\n"
     ]
    }
   ],
   "source": [
    "for mp3 in tqdm(invalid_files):\n",
    "    if not check_predictions_87(mp3):\n",
    "        predictions = extract_predictions_87(mp3, embedding_87_model, prediction_87_model)\n",
    "        if predictions is not None:\n",
    "            pkl_path = str(mp3).replace(\".mp3\", \".pkl\")\n",
    "            with open(pkl_path, \"rb\") as f:\n",
    "                data = pickle.load(f)\n",
    "            data[\"predictions_87\"] = predictions\n",
    "            with open(pkl_path, \"wb\") as f:\n",
    "                pickle.dump(data, f)\n",
    "        predictions = None\n",
    "        \n",
    "# 480m "
   ]
  },
  {
   "cell_type": "code",
   "execution_count": 20,
   "metadata": {},
   "outputs": [
    {
     "name": "stderr",
     "output_type": "stream",
     "text": [
      "100%|██████████| 100/100 [07:26<00:00,  4.47s/it]\n"
     ]
    }
   ],
   "source": [
    "for mp3 in tqdm(invalid_files):\n",
    "    if not check_embeddings_512(mp3):\n",
    "        embeddings = extract_embeddings_512(mp3, embedding_512_model)\n",
    "        if embeddings is not None:\n",
    "            pkl_path = str(mp3).replace(\".mp3\", \".pkl\")\n",
    "            with open(pkl_path, \"rb\") as f:\n",
    "                data = pickle.load(f)\n",
    "            data[\"embedding_512\"] = embeddings\n",
    "            with open(pkl_path, \"wb\") as f:\n",
    "                pickle.dump(data, f)\n",
    "        embeddings = None\n",
    "\n",
    "# 1220m"
   ]
  },
  {
   "cell_type": "code",
   "execution_count": 21,
   "metadata": {},
   "outputs": [
    {
     "ename": "AttributeError",
     "evalue": "'str' object has no attribute 'rglob'",
     "output_type": "error",
     "traceback": [
      "\u001b[0;31m---------------------------------------------------------------------------\u001b[0m",
      "\u001b[0;31mAttributeError\u001b[0m                            Traceback (most recent call last)",
      "Cell \u001b[0;32mIn[21], line 1\u001b[0m\n\u001b[0;32m----> 1\u001b[0m list_of_mp3s \u001b[38;5;241m=\u001b[39m \u001b[38;5;28mlist\u001b[39m(\u001b[43mDATASET\u001b[49m\u001b[38;5;241;43m.\u001b[39;49m\u001b[43mrglob\u001b[49m(\u001b[38;5;124m\"\u001b[39m\u001b[38;5;124m*.mp3\u001b[39m\u001b[38;5;124m\"\u001b[39m))\n\u001b[1;32m      2\u001b[0m invalid_files \u001b[38;5;241m=\u001b[39m []\n\u001b[1;32m      3\u001b[0m \u001b[38;5;28;01mfor\u001b[39;00m mp3 \u001b[38;5;129;01min\u001b[39;00m list_of_mp3s:\n",
      "\u001b[0;31mAttributeError\u001b[0m: 'str' object has no attribute 'rglob'"
     ]
    }
   ],
   "source": [
    "list_of_mp3s = list(DATASET.rglob(\"*.mp3\"))\n",
    "invalid_files = []\n",
    "for mp3 in list_of_mp3s:\n",
    "    if not check_predictions_87(mp3) or not check_embeddings_512(mp3):\n",
    "        invalid_files.append(mp3)\n",
    "# Invalid files: 1092\n",
    "        \n",
    "print(f\"Invalid files: {len(invalid_files)}\")"
   ]
  }
 ],
 "metadata": {
  "kernelspec": {
   "display_name": ".venv",
   "language": "python",
   "name": "python3"
  },
  "language_info": {
   "codemirror_mode": {
    "name": "ipython",
    "version": 3
   },
   "file_extension": ".py",
   "mimetype": "text/x-python",
   "name": "python",
   "nbconvert_exporter": "python",
   "pygments_lexer": "ipython3",
   "version": "3.10.12"
  }
 },
 "nbformat": 4,
 "nbformat_minor": 2
}
