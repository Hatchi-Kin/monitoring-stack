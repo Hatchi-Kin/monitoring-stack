{
 "cells": [
  {
   "cell_type": "code",
   "execution_count": 2,
   "metadata": {},
   "outputs": [],
   "source": [
    "from utils.music_utils import *\n",
    "from pathlib import Path\n",
    "DATASET = Path('MegaSet')"
   ]
  },
  {
   "cell_type": "code",
   "execution_count": 3,
   "metadata": {},
   "outputs": [
    {
     "name": "stdout",
     "output_type": "stream",
     "text": [
      "Invalid files: 0\n"
     ]
    }
   ],
   "source": [
    "list_of_mp3s = list(DATASET.rglob(\"*.mp3\"))\n",
    "invalid_files = []\n",
    "for mp3 in list_of_mp3s:\n",
    "    if not check_predictions_87(mp3) or not check_embeddings_512(mp3):# or check_file_info(mp3) is False:\n",
    "        invalid_files.append(mp3)\n",
    "        \n",
    "print(f\"Invalid files: {len(invalid_files)}\")"
   ]
  },
  {
   "cell_type": "code",
   "execution_count": 4,
   "metadata": {},
   "outputs": [
    {
     "data": {
      "text/plain": [
       "16374"
      ]
     },
     "execution_count": 4,
     "metadata": {},
     "output_type": "execute_result"
    }
   ],
   "source": [
    "len(list_of_mp3s)"
   ]
  },
  {
   "cell_type": "code",
   "execution_count": 5,
   "metadata": {},
   "outputs": [
    {
     "name": "stdout",
     "output_type": "stream",
     "text": [
      "Valid files: 16374\n"
     ]
    }
   ],
   "source": [
    "count = 0\n",
    "\n",
    "for mp3 in list_of_mp3s:\n",
    "    if check_predictions_87(mp3):\n",
    "        count += 1  \n",
    "print(f\"Valid files: {count}\")"
   ]
  },
  {
   "cell_type": "code",
   "execution_count": 6,
   "metadata": {},
   "outputs": [
    {
     "name": "stdout",
     "output_type": "stream",
     "text": [
      "Valid files: 16374\n"
     ]
    }
   ],
   "source": [
    "count = 0\n",
    "\n",
    "for mp3 in list_of_mp3s:\n",
    "    if check_embeddings_512(mp3):\n",
    "        count += 1  \n",
    "print(f\"Valid files: {count}\")"
   ]
  },
  {
   "cell_type": "code",
   "execution_count": 24,
   "metadata": {},
   "outputs": [
    {
     "name": "stdout",
     "output_type": "stream",
     "text": [
      "Checklist: 102\n"
     ]
    }
   ],
   "source": [
    "\n",
    "import sqlite3\n",
    "conn = sqlite3.connect('music.db')\n",
    "c = conn.cursor()\n",
    "table_name = 'songs'\n",
    "\n",
    "# for each row, check if album and alum_foler are the same AND contains the same number of songs /\n",
    "# if so, then add to checklist\n",
    "\n",
    "checklist = []\n",
    "\n",
    "for row in c.execute(f'SELECT * FROM {table_name}'):\n",
    "    album_folder = row[3]\n",
    "    album = row[8]\n",
    "    if album_folder is not None and album is not None:\n",
    "        if album_folder == album:\n",
    "            checklist.append(album_folder)\n",
    "\n",
    "print(f\"Checklist: {len(checklist)}\")"
   ]
  },
  {
   "cell_type": "code",
   "execution_count": 25,
   "metadata": {},
   "outputs": [
    {
     "name": "stdout",
     "output_type": "stream",
     "text": [
      "Yes\n"
     ]
    }
   ],
   "source": [
    "# is \"MegaSet/Aerial_Carbon_Pseudonyme_EP/Aerial Carbon - Pseudonyme EP\"  in checklist?\n",
    "\n",
    "if \"MegaSet/Aerial_Carbon_Pseudonyme_EP/Aerial Carbon - Pseudonyme EP\" in checklist:\n",
    "    print(\"Yes\")\n"
   ]
  },
  {
   "cell_type": "code",
   "execution_count": 28,
   "metadata": {},
   "outputs": [
    {
     "name": "stdout",
     "output_type": "stream",
     "text": [
      "MegaSet/Louise Attaque/Louise Attaque-1998-\n",
      "MegaSet/Frank Ocean/Frank Ocean - Splash Music\n",
      "MegaSet/Frank Ocean/Frank Ocean - Splash Music\n",
      "MegaSet/Frank Ocean/Frank Ocean - Splash Music\n",
      "MegaSet/Frank Ocean/Frank Ocean - Splash Music\n",
      "MegaSet/Frank Ocean/Frank Ocean - Splash Music\n",
      "MegaSet/Frank Ocean/Frank Ocean - Splash Music\n",
      "MegaSet/Frank Ocean/Frank Ocean - Splash Music\n",
      "MegaSet/Frank Ocean/Frank Ocean - Splash Music\n",
      "MegaSet/Frank Ocean/Frank Ocean - Splash Music\n",
      "MegaSet/Frank Ocean/Frank Ocean - Splash Music\n",
      "MegaSet/Frank Ocean/Frank Ocean - Splash Music\n",
      "MegaSet/Frank Ocean/Frank Ocean - Splash Music\n",
      "MegaSet/Frank Ocean/Frank Ocean - Splash Music\n",
      "MegaSet/Aerial Carbon/Aerial Carbon - Pseudonyme EP\n",
      "MegaSet/Aerial Carbon/Aerial Carbon - Pseudonyme EP\n",
      "MegaSet/Aerial Carbon/Aerial Carbon - Pseudonyme EP\n",
      "MegaSet/Aerial Carbon/Aerial Carbon - Pseudonyme EP\n",
      "MegaSet/Aerial Carbon/Aerial Carbon - Pseudonyme EP\n",
      "MegaSet/Volo/2006  Blancs Manteaux\n",
      "MegaSet/Volo/2006  Blancs Manteaux\n",
      "MegaSet/Volo/2006  Blancs Manteaux\n",
      "MegaSet/Volo/2006  Blancs Manteaux\n",
      "MegaSet/Volo/2006  Blancs Manteaux\n",
      "MegaSet/Volo/2006  Blancs Manteaux\n",
      "MegaSet/Volo/2006  Blancs Manteaux\n",
      "MegaSet/Volo/2006  Blancs Manteaux\n",
      "MegaSet/Volo/2006  Blancs Manteaux\n",
      "MegaSet/Volo/2006  Blancs Manteaux\n",
      "MegaSet/Volo/2006  Blancs Manteaux\n",
      "MegaSet/Volo/2006  Blancs Manteaux\n",
      "MegaSet/Volo/2006  Blancs Manteaux\n",
      "MegaSet/Volo/2006  Blancs Manteaux\n",
      "MegaSet/Volo/2006  Blancs Manteaux\n",
      "MegaSet/Volo/2006  Blancs Manteaux\n",
      "MegaSet/Volo/2006  Blancs Manteaux\n",
      "MegaSet/Volo/2006  Blancs Manteaux\n",
      "MegaSet/Volo/2006  Blancs Manteaux\n",
      "MegaSet/Sinkane/Sinkane -2014- Mean Love\n",
      "MegaSet/Chinese Man Records/Chinese Man Records - The Groove Sessions Vol_2\n",
      "MegaSet/Chinese Man Records/Chinese Man Records - The Groove Sessions Vol_2\n",
      "MegaSet/Chinese Man Records/Chinese man records - The Groove Sessions (2007)\n",
      "MegaSet/Chinese Man Records/Chinese man records - The Groove Sessions (2007)\n",
      "MegaSet/Chinese Man Records/Chinese man records - The Groove Sessions (2007)\n",
      "MegaSet/Chinese Man Records/Chinese man records - The Groove Sessions (2007)\n",
      "MegaSet/Peter Tosh\n",
      "MegaSet/Peter Tosh\n",
      "MegaSet/Sanseverino\n",
      "MegaSet/Magnetic Man/Magnetic Man - Magnetic Man (2010)-Team Zion\n",
      "MegaSet/Les Becsbienzen/Les Becsbienzen-Un sentiment\n",
      "MegaSet/Les Becsbienzen/Les Becsbienzen-Un sentiment\n",
      "MegaSet/Les Becsbienzen/Les Becsbienzen-Un sentiment\n",
      "MegaSet/Les Becsbienzen/Les Becsbienzen-Un sentiment\n",
      "MegaSet/Les Becsbienzen/Les Becsbienzen-Un sentiment\n",
      "MegaSet/Les Becsbienzen/Les Becsbienzen-Un sentiment\n",
      "MegaSet/Les Becsbienzen/Les Becsbienzen-Un sentiment\n",
      "MegaSet/Les Becsbienzen/Les Becsbienzen-Un sentiment\n",
      "MegaSet/Les Becsbienzen/Les Becsbienzen-Un sentiment\n",
      "MegaSet/Les Becsbienzen/Les Becsbienzen-Un sentiment\n",
      "MegaSet/Les Becsbienzen/Les Becsbienzen-Un sentiment\n",
      "MegaSet/Les Becsbienzen/Les Becsbienzen-Un sentiment\n",
      "MegaSet/Les Becsbienzen/Les Becsbienzen-Un sentiment\n",
      "MegaSet/Johnny Cash\n",
      "MegaSet/Johnny Cash\n",
      "MegaSet/Katie Melua/Videos and others\n",
      "MegaSet/Katie Melua/Videos and others\n",
      "MegaSet/No Place For Soul/No Place For Soul [1998]\n",
      "MegaSet/No Place For Soul/No Place For Soul [1998]\n",
      "MegaSet/No Place For Soul/No Place For Soul [1998]\n",
      "MegaSet/Cristobal Tapia De Veer\n",
      "MegaSet/Renaud\n",
      "MegaSet/Micky Green\n",
      "MegaSet/Drive - 2011 - OST\n",
      "MegaSet/C2C\n",
      "MegaSet/C2C\n",
      "MegaSet/Matisyahu/Matisyahu - live at Stubb's -\n",
      "MegaSet/Gorillaz/[2001] Gorillaz - Feel goog Inc\n",
      "MegaSet/Aerial_Carbon_Pseudonyme_EP/Aerial Carbon - Pseudonyme EP\n",
      "MegaSet/Aerial_Carbon_Pseudonyme_EP/Aerial Carbon - Pseudonyme EP\n",
      "MegaSet/Aerial_Carbon_Pseudonyme_EP/Aerial Carbon - Pseudonyme EP\n",
      "MegaSet/Aerial_Carbon_Pseudonyme_EP/Aerial Carbon - Pseudonyme EP\n",
      "MegaSet/Aerial_Carbon_Pseudonyme_EP/Aerial Carbon - Pseudonyme EP\n",
      "MegaSet/Yellow Umbrella/Yellow Umbrella [2003] - Stoned Steady\n",
      "MegaSet/Enjoy -Electro/Enjoy Vol.2\n",
      "MegaSet/Groundation/2003 - Dragon War\n",
      "MegaSet/The Doors/Jim Morrison - An American Prayer\n",
      "MegaSet/The Doors/Jim Morrison - An American Prayer\n",
      "MegaSet/The Doors/The Doors\n",
      "MegaSet/Soom T\n",
      "MegaSet/Mano Negra/(1991) King Of Bongo\n",
      "MegaSet/Mano Negra/(1991) King Of Bongo\n",
      "MegaSet/Greg Doney/Greg Doney - 2009 - Original Song\n",
      "MegaSet/Greg Doney/Greg Doney - 2009 - Original Song\n",
      "MegaSet/Greg Doney/Greg Doney - 2009 - Original Song\n",
      "MegaSet/Greg Doney/Greg Doney - 2009 - Original Song\n",
      "MegaSet/Greg Doney/Greg Doney - 2009 - Original Song\n",
      "MegaSet/Drake/Drake - Thank Me Later - 2010-Full Album\n",
      "MegaSet/N_T_M\n",
      "MegaSet/N_T_M\n",
      "MegaSet/N_T_M/Supreme_NTM_Best_Of_2007\n",
      "MegaSet/Hilight Tribe/2000 - Stellar Rain\n",
      "MegaSet/Hilight Tribe/2000 - Stellar Rain\n"
     ]
    }
   ],
   "source": [
    "for i in checklist:\n",
    "    print(i)"
   ]
  }
 ],
 "metadata": {
  "kernelspec": {
   "display_name": ".venv",
   "language": "python",
   "name": "python3"
  },
  "language_info": {
   "codemirror_mode": {
    "name": "ipython",
    "version": 3
   },
   "file_extension": ".py",
   "mimetype": "text/x-python",
   "name": "python",
   "nbconvert_exporter": "python",
   "pygments_lexer": "ipython3",
   "version": "3.10.12"
  }
 },
 "nbformat": 4,
 "nbformat_minor": 2
}
