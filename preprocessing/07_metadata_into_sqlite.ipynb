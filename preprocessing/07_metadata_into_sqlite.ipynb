{
 "cells": [
  {
   "cell_type": "code",
   "execution_count": 4,
   "metadata": {},
   "outputs": [],
   "source": [
    "from utils.music_utils import *\n",
    "from pathlib import Path\n",
    "import sqlite3\n",
    "import logging\n",
    "from typing import Tuple, Optional"
   ]
  },
  {
   "cell_type": "code",
   "execution_count": 5,
   "metadata": {},
   "outputs": [
    {
     "name": "stdout",
     "output_type": "stream",
     "text": [
      "Valid files: 16428\n",
      "Invalid files: 0\n"
     ]
    }
   ],
   "source": [
    "DATASET = Path(\"MegaSet\")\n",
    "SQLITE_INSTANCE = \"music_09.db\"\n",
    "pkl_files = list(DATASET.rglob(\"*.pkl\"))\n",
    "valid_files = [check_file_info(pkl_file) for pkl_file in pkl_files]\n",
    "invalid_files = [pkl_file for pkl_file, valid in zip(pkl_files, valid_files) if not valid]\n",
    "print(f\"Valid files: {len(valid_files)}\")\n",
    "print(f\"Invalid files: {len(invalid_files)}\")"
   ]
  },
  {
   "cell_type": "code",
   "execution_count": 7,
   "metadata": {},
   "outputs": [
    {
     "name": "stdout",
     "output_type": "stream",
     "text": [
      "No invalid files found\n"
     ]
    }
   ],
   "source": [
    "# pick random invalid file and print_info\n",
    "import random\n",
    "if invalid_files:\n",
    "    random_invalid_file = random.choice(invalid_files)\n",
    "    print_info(random_invalid_file)\n",
    "else:\n",
    "    print(\"No invalid files found\")"
   ]
  },
  {
   "cell_type": "code",
   "execution_count": 8,
   "metadata": {},
   "outputs": [],
   "source": [
    "def get_data(mp3_file: Path) -> dict:\n",
    "    pkl_path = mp3_file.with_suffix(\".pkl\")\n",
    "    with open(pkl_path, \"rb\") as f:\n",
    "        data = pickle.load(f)\n",
    "    data.pop(\"predictions_87\", None)\n",
    "    data.pop(\"embedding_512\", None)\n",
    "    data[\"mp3_path\"] = str(mp3_file)\n",
    "    return data"
   ]
  },
  {
   "cell_type": "code",
   "execution_count": 9,
   "metadata": {},
   "outputs": [
    {
     "name": "stdout",
     "output_type": "stream",
     "text": [
      "filename: 08 Spectacle.mp3\n",
      "filepath: MegaSet/Lyric Jones/Lyric Jones - 2014 - Love's Trail Mix/08 Spectacle.mp3\n",
      "folder: MegaSet/Lyric Jones/Lyric Jones - 2014 - Love's Trail Mix\n",
      "filesize: 3.99\n",
      "title: Spectacle \n",
      "artist: Lyric Jones\n",
      "album: Love's Trail Mix \n",
      "year: 2014\n",
      "tracknumber: 8\n",
      "genre: Hip Hop/Soul\n",
      "top_5_genres: ['hiphop', 'rap', 'electronic', 'pop', 'triphop']\n",
      "mp3_path: MegaSet/Lyric Jones/Lyric Jones - 2014 - Love's Trail Mix/08 Spectacle.mp3\n"
     ]
    }
   ],
   "source": [
    "rdm_mp3 = pick_random_mp3(DATASET)\n",
    "rdm_mp3_data = get_data(rdm_mp3)\n",
    "\n",
    "print(\"\\n\".join(f\"{key}: {value}\" for key, value in rdm_mp3_data.items()))"
   ]
  },
  {
   "cell_type": "code",
   "execution_count": 10,
   "metadata": {},
   "outputs": [],
   "source": [
    "def create_tables(self):\n",
    "    try:\n",
    "        with sqlite3.connect(self) as conn:\n",
    "            c = conn.cursor()\n",
    "\n",
    "            c.execute(\n",
    "                \"\"\"\n",
    "                CREATE TABLE IF NOT EXISTS songs(\n",
    "                    id INTEGER PRIMARY KEY,\n",
    "                    filename TEXT NOT NULL,\n",
    "                    filepath TEXT NOT NULL,\n",
    "                    album_folder TEXT NOT NULL,\n",
    "                    artist_folder TEXT NOT NULL,\n",
    "                    filesize REAL NOT NULL,\n",
    "                    title TEXT NOT NULL,\n",
    "                    artist TEXT NOT NULL,\n",
    "                    album TEXT NOT NULL,\n",
    "                    year INTEGER,\n",
    "                    tracknumber INTEGER,\n",
    "                    genre TEXT,\n",
    "                    top_5_genres TEXT\n",
    "                )\n",
    "                \"\"\"\n",
    "            )\n",
    "\n",
    "    except sqlite3.Error as e:\n",
    "        logging.error(f\"An error occurred in create_tables: {e}\")\n",
    "\n",
    "\n",
    "create_tables(SQLITE_INSTANCE)"
   ]
  },
  {
   "cell_type": "code",
   "execution_count": 11,
   "metadata": {},
   "outputs": [],
   "source": [
    "class Song:\n",
    "    def __init__(\n",
    "        self,\n",
    "        filename: str,\n",
    "        filepath: str,\n",
    "        album_folder: str,\n",
    "        artist_folder: str,\n",
    "        filesize: float,\n",
    "        title: str,\n",
    "        artist: str,\n",
    "        album: str,\n",
    "        year: int,\n",
    "        tracknumber: int,\n",
    "        genre: str,\n",
    "        top_5_genres: str,\n",
    "    ):\n",
    "        self.filename = filename\n",
    "        self.filepath = filepath\n",
    "        self.album_folder = album_folder\n",
    "        self.artist_folder = artist_folder\n",
    "        self.filesize = filesize\n",
    "        self.title = title\n",
    "        self.artist = artist\n",
    "        self.album = album \n",
    "        self.year = year if year else None\n",
    "        self.tracknumber = tracknumber  if tracknumber else None\n",
    "        self.genre = genre  if genre else None\n",
    "        self.top_5_genres = (\n",
    "            top_5_genres if type(top_5_genres) == str else \", \".join(top_5_genres)\n",
    "        )\n",
    "\n",
    "class DatabaseManager:\n",
    "    def __init__(self, db_path: str):\n",
    "        self.conn = sqlite3.connect(db_path, check_same_thread=False)\n",
    "\n",
    "    def close(self):\n",
    "        self.conn.close()\n",
    "\n",
    "    def execute(self, query: str, params: Tuple = ()) -> None:\n",
    "        try:\n",
    "            with self.conn:\n",
    "                self.conn.execute(query, params)\n",
    "                self.conn.commit()\n",
    "        except sqlite3.Error as e:\n",
    "            logging.error(f\"An error occurred: {e}\")\n",
    "\n",
    "    def fetchone(self, query: str, params: Tuple = ()) -> Optional[Tuple]:\n",
    "        try:\n",
    "            with self.conn:\n",
    "                return self.conn.execute(query, params).fetchone()\n",
    "        except sqlite3.Error as e:\n",
    "            logging.error(f\"An error occurred: {e}\")\n",
    "\n",
    "    def fetchall(self, query: str, params: Tuple = ()) -> Optional[Tuple]:\n",
    "        try:\n",
    "            with self.conn:\n",
    "                return self.conn.execute(query, params).fetchall()\n",
    "        except sqlite3.Error as e:\n",
    "            logging.error(f\"An error occurred: {e}\")\n",
    "\n",
    "    def count_songs(self) -> int:\n",
    "        query = \"SELECT COUNT(*) FROM songs\"\n",
    "        return self.fetchone(query)[0]\n",
    "\n",
    "    def insert_song(self, song: Song) -> None:\n",
    "        song_data = (\n",
    "            song.filename,\n",
    "            song.filepath,\n",
    "            song.album_folder,\n",
    "            song.artist_folder,\n",
    "            song.filesize,\n",
    "            song.title,\n",
    "            song.artist,\n",
    "            song.album,\n",
    "            song.year,\n",
    "            song.tracknumber,\n",
    "            song.genre,\n",
    "            song.top_5_genres,\n",
    "        )\n",
    "        query = \"SELECT * FROM songs WHERE filename = ? AND filepath = ?\"\n",
    "        existing_song = self.fetchone(query, (song.filename, song.filepath))\n",
    "        if existing_song:\n",
    "            return\n",
    "        query = \"\"\"\n",
    "            INSERT INTO songs \n",
    "            (filename, filepath, album_folder, artist_folder, filesize, title, artist, album, year, tracknumber, genre, top_5_genres) \n",
    "            VALUES (?, ?, ?, ?, ?, ?, ?, ?, ?, ?, ?, ?)\n",
    "        \"\"\"\n",
    "        self.execute(query, song_data)"
   ]
  },
  {
   "cell_type": "code",
   "execution_count": 12,
   "metadata": {},
   "outputs": [],
   "source": [
    "def pkl_to_dict(mp3_file: Path) -> Song:\n",
    "    pkl_path = mp3_file.with_suffix(\".pkl\")\n",
    "    with open(pkl_path, \"rb\") as f:\n",
    "        data = pickle.load(f)\n",
    "    data.pop(\"predictions_87\", None)\n",
    "    data.pop(\"embedding_512\", None)\n",
    "    data['artist_folder'] = data['filepath'].split(\"/\")[1]\n",
    "    song = Song(data[\"filename\"], \n",
    "                data[\"filepath\"], \n",
    "                data[\"folder\"],\n",
    "                data[\"artist_folder\"],\n",
    "                data[\"filesize\"], \n",
    "                data[\"title\"], \n",
    "                data[\"artist\"], \n",
    "                data[\"album\"],\n",
    "                data[\"year\"],\n",
    "                data[\"tracknumber\"],\n",
    "                data[\"genre\"],\n",
    "                \",\".join(data[\"top_5_genres\"])\n",
    "                )\n",
    "    return song"
   ]
  },
  {
   "cell_type": "code",
   "execution_count": 13,
   "metadata": {},
   "outputs": [],
   "source": [
    "db = DatabaseManager(SQLITE_INSTANCE)\n",
    "\n",
    "# song = pkl_to_dict(rdm_mp3)\n",
    "# db.insert_song(song)"
   ]
  },
  {
   "cell_type": "code",
   "execution_count": 14,
   "metadata": {},
   "outputs": [
    {
     "ename": "IndexError",
     "evalue": "list index out of range",
     "output_type": "error",
     "traceback": [
      "\u001b[0;31m---------------------------------------------------------------------------\u001b[0m",
      "\u001b[0;31mIndexError\u001b[0m                                Traceback (most recent call last)",
      "Cell \u001b[0;32mIn[14], line 1\u001b[0m\n\u001b[0;32m----> 1\u001b[0m \u001b[43mdb\u001b[49m\u001b[38;5;241;43m.\u001b[39;49m\u001b[43mfetchall\u001b[49m\u001b[43m(\u001b[49m\u001b[38;5;124;43m\"\u001b[39;49m\u001b[38;5;124;43mSELECT * FROM songs\u001b[39;49m\u001b[38;5;124;43m\"\u001b[39;49m\u001b[43m)\u001b[49m\u001b[43m[\u001b[49m\u001b[38;5;241;43m0\u001b[39;49m\u001b[43m]\u001b[49m\n",
      "\u001b[0;31mIndexError\u001b[0m: list index out of range"
     ]
    }
   ],
   "source": [
    "db.fetchall(\"SELECT * FROM songs\")[0]"
   ]
  },
  {
   "cell_type": "code",
   "execution_count": 15,
   "metadata": {},
   "outputs": [
    {
     "data": {
      "text/plain": [
       "0"
      ]
     },
     "execution_count": 15,
     "metadata": {},
     "output_type": "execute_result"
    }
   ],
   "source": [
    "db.count_songs()"
   ]
  },
  {
   "cell_type": "code",
   "execution_count": 16,
   "metadata": {},
   "outputs": [
    {
     "data": {
      "text/plain": [
       "16428"
      ]
     },
     "execution_count": 16,
     "metadata": {},
     "output_type": "execute_result"
    }
   ],
   "source": [
    "# loop over every file in DATASET and, read every .pkl into a Song object \n",
    "# and insert it into the database\n",
    "\n",
    "for pkl_file in pkl_files:\n",
    "    song = pkl_to_dict(pkl_file)\n",
    "    db.insert_song(song)\n",
    "\n",
    "# 27.7s\n",
    "\n",
    "db.count_songs()"
   ]
  },
  {
   "cell_type": "code",
   "execution_count": 17,
   "metadata": {},
   "outputs": [
    {
     "data": {
      "text/plain": [
       "id                  0\n",
       "filename            0\n",
       "filepath            0\n",
       "album_folder        0\n",
       "artist_folder       0\n",
       "filesize            0\n",
       "title               0\n",
       "artist              0\n",
       "album               0\n",
       "year              137\n",
       "tracknumber       129\n",
       "genre            2126\n",
       "top_5_genres        0\n",
       "dtype: int64"
      ]
     },
     "execution_count": 17,
     "metadata": {},
     "output_type": "execute_result"
    }
   ],
   "source": [
    "# create a pandas dataframe from the database\n",
    "import pandas as pd\n",
    "\n",
    "query = \"SELECT * FROM songs\"\n",
    "df = pd.read_sql_query(query, db.conn)\n",
    "\n",
    "df.isna().sum()"
   ]
  },
  {
   "cell_type": "code",
   "execution_count": 19,
   "metadata": {},
   "outputs": [],
   "source": [
    "## make sure the values for album don't contain any slashes\n",
    "\n",
    "path_to_sqlite_db = 'music_09.db'\n",
    "table_name = 'songs'\n",
    "\n",
    "class Song:\n",
    "    def __init__(self, filename: str, filepath: str, album_folder: str, artist_folder: str, filesize: float, title: str, artist: str, album: str, year: int, tracknumber: int, genre: str, top_5_genres: str):\n",
    "        self.filename = filename\n",
    "        self.filepath = filepath\n",
    "        self.album_folder = album_folder\n",
    "        self.artist_folder = artist_folder\n",
    "        self.filesize = filesize\n",
    "        self.title = title\n",
    "        self.artist = artist\n",
    "        self.album = album\n",
    "        self.year = year\n",
    "        self.tracknumber = tracknumber\n",
    "        self.genre = genre\n",
    "        self.top_5_genres = top_5_genres\n",
    "\n",
    "        \n",
    "def connect_to_db():\n",
    "    conn = sqlite3.connect(path_to_sqlite_db)\n",
    "    c = conn.cursor()\n",
    "    return conn, c\n",
    "\n",
    "def close_db(conn):\n",
    "    conn.commit()\n",
    "    conn.close()\n",
    "    \n",
    "def select_rows_with_slash_in_album():\n",
    "    conn, c = connect_to_db()\n",
    "    c.execute(f\"SELECT * FROM {table_name} WHERE album LIKE '%/%'\")\n",
    "    rows = c.fetchall()\n",
    "    close_db(conn)\n",
    "    return rows\n",
    "\n",
    "\n",
    "def count_rows_with_slash_in_album():\n",
    "    conn, c = connect_to_db()\n",
    "    c.execute(f\"SELECT COUNT(*) FROM {table_name} WHERE album LIKE '%/%'\")\n",
    "    count = c.fetchone()[0]\n",
    "    close_db(conn)\n",
    "    return count\n",
    "\n",
    "def update_album_column():\n",
    "    conn, c = connect_to_db()\n",
    "\n",
    "    c.execute(f\"SELECT * FROM {table_name} WHERE album LIKE '%/%'\")\n",
    "    rows = c.fetchall()\n",
    "\n",
    "    for row in rows:\n",
    "        album = row[7]\n",
    "        album = album.split('/')[-1]\n",
    "        c.execute(f\"UPDATE {table_name} SET album = ? WHERE filepath = ?\", (album, row[2]))\n",
    "\n",
    "    close_db(conn)\n"
   ]
  },
  {
   "cell_type": "code",
   "execution_count": 20,
   "metadata": {},
   "outputs": [
    {
     "name": "stdout",
     "output_type": "stream",
     "text": [
      "229\n",
      "0\n"
     ]
    }
   ],
   "source": [
    "print(count_rows_with_slash_in_album())\n",
    "update_album_column()\n",
    "print(count_rows_with_slash_in_album())"
   ]
  },
  {
   "cell_type": "code",
   "execution_count": null,
   "metadata": {},
   "outputs": [],
   "source": [
    "#######################################################################\"\""
   ]
  },
  {
   "cell_type": "code",
   "execution_count": 21,
   "metadata": {},
   "outputs": [],
   "source": [
    "import musicbrainzngs\n",
    "\n",
    "musicbrainzngs.set_rate_limit(limit_or_interval=1.0, new_requests=10)\n",
    "# If you plan to submit data, authenticate\n",
    "# musicbrainzngs.auth(\"user\", \"password\")\n",
    "\n",
    "# (this step is required, as per the webservice access rules\n",
    "# at http://wiki.musicbrainz.org/XML_Web_Service/Rate_Limiting )\n",
    "musicbrainzngs.set_useragent(\"Music_Recommandation_Milvus\", \"0.1\", \"https://github.com/Hatchi-Kin/music_similarity\")\n",
    "\n",
    "# If you are connecting to a different server\n",
    "# musicbrainzngs.set_hostname(\"beta.musicbrainz.org\")"
   ]
  },
  {
   "cell_type": "code",
   "execution_count": 22,
   "metadata": {},
   "outputs": [
    {
     "name": "stdout",
     "output_type": "stream",
     "text": [
      "Request was successful\n"
     ]
    },
    {
     "data": {
      "text/plain": [
       "{'id': '6838bf7e-b70d-3299-b9eb-8f5ec90d5229',\n",
       " 'type': 'Album',\n",
       " 'ext:score': '100',\n",
       " 'title': 'Moby',\n",
       " 'first-release-date': '1992-07-27',\n",
       " 'primary-type': 'Album',\n",
       " 'artist-credit': [{'name': 'Moby',\n",
       "   'artist': {'id': '8970d868-0723-483b-a75b-51088913d3d4',\n",
       "    'name': 'Moby',\n",
       "    'sort-name': 'Moby',\n",
       "    'disambiguation': 'electronic musician Richard Melville Hall',\n",
       "    'alias-list': [{'locale': 'ja',\n",
       "      'sort-name': 'モービー',\n",
       "      'type': 'Artist name',\n",
       "      'alias': 'モービー'},\n",
       "     {'locale': 'en',\n",
       "      'sort-name': 'DJ Moby',\n",
       "      'type': 'Artist name',\n",
       "      'alias': 'DJ Moby'},\n",
       "     {'locale': 'en',\n",
       "      'sort-name': 'Moby',\n",
       "      'type': 'Artist name',\n",
       "      'primary': 'primary',\n",
       "      'alias': 'Moby'}]}}],\n",
       " 'release-list': [{'id': '2587659e-7469-4a63-896c-3f4571b0689b',\n",
       "   'title': 'Moby',\n",
       "   'status': 'Official'},\n",
       "  {'id': '45dff336-26bb-4e9a-8a9d-9c40b7f480bc',\n",
       "   'title': 'Moby',\n",
       "   'status': 'Official'},\n",
       "  {'id': '51dd83d1-0803-480f-8d8f-9efddf7a42d2',\n",
       "   'title': 'Moby',\n",
       "   'status': 'Official'},\n",
       "  {'id': '3fdf1e1d-b7b0-4f61-b860-ef40408dfffb',\n",
       "   'title': 'The Story So Far',\n",
       "   'status': 'Official'},\n",
       "  {'id': '3f315e99-933f-4891-abb9-0b33757a3e08',\n",
       "   'title': 'Moby',\n",
       "   'status': 'Official'},\n",
       "  {'id': '4eadc11d-2239-3d7f-bec9-681c6dd6f210',\n",
       "   'title': 'The Story So Far',\n",
       "   'status': 'Official'},\n",
       "  {'id': '7e38281b-e051-4d97-9528-7f3ec66b5306',\n",
       "   'title': 'The Story So Far',\n",
       "   'status': 'Official'},\n",
       "  {'id': 'f44810e9-189b-398a-8248-95aa005f4d5c',\n",
       "   'title': 'Moby',\n",
       "   'status': 'Official'},\n",
       "  {'id': 'dcb46282-9acf-42c7-8a27-bbdb333a7e95',\n",
       "   'title': 'Moby',\n",
       "   'status': 'Official'},\n",
       "  {'id': '1f1c9226-ec0c-4c71-826d-b3afa94e6e6b',\n",
       "   'title': 'Moby',\n",
       "   'status': 'Official'},\n",
       "  {'id': '63c671c5-bd00-4c14-954f-7c259288a2d0',\n",
       "   'title': 'Moby',\n",
       "   'status': 'Official'}],\n",
       " 'release-count': 11,\n",
       " 'tag-list': [{'count': '1', 'name': 'trance'},\n",
       "  {'count': '7', 'name': 'electronic'},\n",
       "  {'count': '1', 'name': 'rave'},\n",
       "  {'count': '2', 'name': '90s'},\n",
       "  {'count': '2', 'name': 'dance'},\n",
       "  {'count': '2', 'name': 'deep house'},\n",
       "  {'count': '3', 'name': 'techno'},\n",
       "  {'count': '1', 'name': 'electronica'},\n",
       "  {'count': '2', 'name': 'progressive house'},\n",
       "  {'count': '3', 'name': 'acid house'},\n",
       "  {'count': '1', 'name': 'porn groove'},\n",
       "  {'count': '1', 'name': 'moby'}],\n",
       " 'artist-credit-phrase': 'Moby'}"
      ]
     },
     "execution_count": 22,
     "metadata": {},
     "output_type": "execute_result"
    }
   ],
   "source": [
    "try:\n",
    "    result = musicbrainzngs.search_release_groups(\"Moby\", \"Play\")\n",
    "    print(\"Request was successful\")\n",
    "except musicbrainzngs.NetworkError:\n",
    "    print(\"Service is unavailable\")\n",
    "except musicbrainzngs.MusicBrainzError as e:\n",
    "    print(f\"An error occurred: {e}\")\n",
    "\n",
    "result['release-group-list'][0]"
   ]
  },
  {
   "cell_type": "code",
   "execution_count": 23,
   "metadata": {},
   "outputs": [
    {
     "name": "stdout",
     "output_type": "stream",
     "text": [
      "07833ad1-9638-3127-804a-e5a7d4e2ad21\n"
     ]
    }
   ],
   "source": [
    "def get_album_id(artist, album):\n",
    "    result = musicbrainzngs.search_releases(artist=artist, release=album)\n",
    "    if result['release-list']:\n",
    "        # If there's a result, take the first one\n",
    "        first_result = result['release-list'][0]\n",
    "        return first_result['id']\n",
    "    else:\n",
    "        return None\n",
    "\n",
    "# Replace 'Artist Name' and 'Album Name' with the artist and album you're interested in\n",
    "print(get_album_id('Moby', 'Play'))"
   ]
  },
  {
   "cell_type": "code",
   "execution_count": 24,
   "metadata": {},
   "outputs": [
    {
     "name": "stdout",
     "output_type": "stream",
     "text": [
      "1999\n"
     ]
    }
   ],
   "source": [
    "def get_album_year_by_id(album_id):\n",
    "        release_info = musicbrainzngs.get_release_by_id(album_id, includes=[\"release-groups\"])\n",
    "        date = release_info['release']['release-group']['first-release-date']\n",
    "        # The date is usually in the format 'YYYY-MM-DD', so we take the first 4 characters to get the year\n",
    "        year = date[:4]\n",
    "        return year\n",
    "\n",
    "# Replace 'Artist Name' and 'Album Name' with the artist and album you're interested in\n",
    "print(get_album_year_by_id('07833ad1-9638-3127-804a-e5a7d4e2ad21'))"
   ]
  },
  {
   "cell_type": "code",
   "execution_count": 25,
   "metadata": {},
   "outputs": [
    {
     "name": "stdout",
     "output_type": "stream",
     "text": [
      "Number of errors: 55\n"
     ]
    }
   ],
   "source": [
    "# for every row in sqlite that has a None value for year,\n",
    "# get the album_id and then the year and update the row in sqlite and the pkl file\n",
    "\n",
    "errors = 0\n",
    "year_none = db.fetchall(\"SELECT * FROM songs WHERE year IS NULL\")\n",
    "for row in year_none:\n",
    "    album_id = get_album_id(row[6], row[5])\n",
    "    if album_id:\n",
    "        year = get_album_year_by_id(album_id)\n",
    "        db.execute(\"UPDATE songs SET year = ? WHERE filename = ? AND filepath = ?\", (year, row[1], row[2]))\n",
    "        pkl_path = Path(row[2]).with_suffix(\".pkl\")\n",
    "        with open(pkl_path, \"rb\") as f:\n",
    "            data = pickle.load(f)\n",
    "        data[\"year\"] = year\n",
    "        with open(pkl_path, \"wb\") as f:\n",
    "            pickle.dump(data, f)\n",
    "    else:\n",
    "        errors += 1\n",
    "\n",
    "# 9m 5.8s\n",
    "\n",
    "print(f\"Number of errors: {errors}\")"
   ]
  },
  {
   "cell_type": "code",
   "execution_count": 26,
   "metadata": {},
   "outputs": [
    {
     "data": {
      "text/plain": [
       "[(137,)]"
      ]
     },
     "execution_count": 26,
     "metadata": {},
     "output_type": "execute_result"
    }
   ],
   "source": [
    "# count the number of rows with a None value or an empty string for year\n",
    "\n",
    "db.fetchall(\"SELECT COUNT(*) FROM songs WHERE year IS NULL OR year = '' OR year = ' '\")"
   ]
  },
  {
   "cell_type": "code",
   "execution_count": 27,
   "metadata": {},
   "outputs": [],
   "source": [
    "# Get the list of rows of sqlite table where genre is None\n",
    "# read the .pkl file and get the first element of the top_5_genres list\n",
    "# and update the row's value for genre in sqlite\n",
    "\n",
    "genre_none = db.fetchall(\"SELECT * FROM songs WHERE genre IS NULL OR genre = '' OR genre = ' ' or genre = 'None'\")\n",
    "for row in genre_none:\n",
    "    song = pkl_to_dict(Path(row[2]))\n",
    "    genre = song.top_5_genres.split(\",\")[0]\n",
    "    db.execute(\"UPDATE songs SET genre = ? WHERE filename = ?\", (genre, row[1]))"
   ]
  },
  {
   "cell_type": "code",
   "execution_count": 28,
   "metadata": {},
   "outputs": [
    {
     "name": "stdout",
     "output_type": "stream",
     "text": [
      "id: 0\n",
      "filename: 0\n",
      "filepath: 0\n",
      "album_folder: 0\n",
      "artist_folder: 0\n",
      "filesize: 0\n",
      "title: 0\n",
      "artist: 0\n",
      "album: 0\n",
      "year: 55\n",
      "tracknumber: 129\n",
      "genre: 0\n",
      "top_5_genres: 0\n"
     ]
    }
   ],
   "source": [
    "# df.isna().sum() equivalent\n",
    "\n",
    "result = db.fetchall(\"PRAGMA table_info(songs)\")\n",
    "columns = [column[1] for column in result]\n",
    "\n",
    "# For each column, count the number of rows with NULL values\n",
    "for column in columns:\n",
    "    count = db.fetchone(f\"SELECT COUNT(*) FROM songs WHERE {column} IS NULL\")[0]\n",
    "    print(f\"{column}: {count}\")"
   ]
  },
  {
   "cell_type": "code",
   "execution_count": 29,
   "metadata": {},
   "outputs": [
    {
     "name": "stdout",
     "output_type": "stream",
     "text": [
      "A Conquest Of The Subconcious.mp3\n",
      "Funky Junky.mp3\n",
      "Gemalude.mp3\n",
      "Intro.mp3\n",
      "Untitled.mp3\n",
      "Over You.mp3\n",
      "Get Down.mp3\n",
      "Classical (Outro).mp3\n",
      "Flying-Turns-Cardboard-Lamb-Produced-By-Gesaffelstein (mp3-music.su).mp3\n",
      "The-shoes-Cover-your-eyes-gesaffelstein-remix (mp3-music.su).mp3\n",
      "ClashMusic-DjMix-Podcast-Gesaffelstein.mp3\n",
      "Gesaffelstein-Liberte (mp3-music.su).mp3\n",
      "Gesaffelstein-Start-Resistance (mp3-music.su).mp3\n",
      "Gesaffelstein-Permanent-Vision (mp3-music.su).mp3\n",
      "Gesaffelstein-Midnight-Anxiety-Theme (mp3-music.su).mp3\n",
      "Limp Bizkit - I Would for You.mp3\n",
      "Don't Worry Be Happy (Bobby McFerrin Cover).mp3\n",
      "BLACKBIRD (The Beatles Cover).mp3\n",
      "Grenade (Bruno Mars Cover).mp3\n",
      "Little Boxes - Walk off the Earth.mp3\n"
     ]
    }
   ],
   "source": [
    "# Get the list of rows is sqlite that have a NULL value for tracknumber\n",
    "\n",
    "tracknumber_none = db.fetchall(\"SELECT * FROM songs WHERE tracknumber IS NULL OR tracknumber = '' OR tracknumber = ' '\")\n",
    "\n",
    "# print the first 5 rows of the list\n",
    "for row in tracknumber_none[100:120]:\n",
    "    # print(row[9])\n",
    "    print(row[1])\n"
   ]
  },
  {
   "cell_type": "code",
   "execution_count": 30,
   "metadata": {},
   "outputs": [
    {
     "data": {
      "text/plain": [
       "129"
      ]
     },
     "execution_count": 30,
     "metadata": {},
     "output_type": "execute_result"
    }
   ],
   "source": [
    "len(tracknumber_none)"
   ]
  },
  {
   "cell_type": "code",
   "execution_count": 32,
   "metadata": {},
   "outputs": [],
   "source": [
    "# read the value for filename and see if there is a str with two successive numbers\n",
    "# for example '05 - Les nuits parisiennes.mp3'. if there is, \n",
    "# extract the number and update the value for tracknumber in sqlite and the .pkl file\n",
    "    \n",
    "import re\n",
    "\n",
    "for row in tracknumber_none:\n",
    "    filename = row[1]\n",
    "    tracknumber = re.findall(r\"\\b\\d{2}\\b\", filename)\n",
    "    if tracknumber:\n",
    "        tracknumber = int(tracknumber[0])\n",
    "        db.execute(\"UPDATE songs SET tracknumber = ? WHERE filename = ?\", (tracknumber, row[1]))\n",
    "        pkl_path = Path(row[2]).with_suffix(\".pkl\")\n",
    "        with open(pkl_path, \"rb\") as f:\n",
    "            data = pickle.load(f)\n",
    "        data[\"tracknumber\"] = tracknumber\n",
    "        with open(pkl_path, \"wb\") as f:\n",
    "            pickle.dump(data, f)\n",
    "\n",
    "\n",
    "# read the value for filename and use re to check if the str contains 'Volo ' then a single digit*\n",
    "# for example 'Volo 1-Jai beau.mp3'. if there is, extract the number and update the value for tracknumber in sqlite and the .pkl file\n",
    "            \n",
    "tracknumber_none = db.fetchall(\"SELECT * FROM songs WHERE tracknumber IS NULL OR tracknumber = '' OR tracknumber = ' '\")\n",
    "for row in tracknumber_none:\n",
    "    filename = row[1]\n",
    "    tracknumber = re.findall(r\"Volo (\\d)\", filename)\n",
    "    if tracknumber:\n",
    "        tracknumber = int(tracknumber[0])\n",
    "        db.execute(\"UPDATE songs SET tracknumber = ? WHERE filename = ?\", (tracknumber, row[1]))\n",
    "        pkl_path = Path(row[2]).with_suffix(\".pkl\")\n",
    "        with open(pkl_path, \"rb\") as f:\n",
    "            data = pickle.load(f)\n",
    "        data[\"tracknumber\"] = tracknumber\n",
    "        with open(pkl_path, \"wb\") as f:\n",
    "            pickle.dump(data, f)\n"
   ]
  },
  {
   "cell_type": "code",
   "execution_count": 33,
   "metadata": {},
   "outputs": [],
   "source": [
    "# read the value for filename and use re to check if the str starts with a \n",
    "# single or double digit immediately followed by a dot then a space then a \"\n",
    "# for example '1. “Nightcall” - Kavinsky & Lovefoxxx.mp3' . If there is, \n",
    "# extract the number and update the value for tracknumber in sqlite and the .pkl file\n",
    "\n",
    "tracknumber_none = db.fetchall(\"SELECT * FROM songs WHERE tracknumber IS NULL OR tracknumber = '' OR tracknumber = ' '\")\n",
    "for row in tracknumber_none:\n",
    "    filename = row[1]\n",
    "    tracknumber = re.findall(r\"(\\d{1,2})\\. \", filename)\n",
    "    if tracknumber:\n",
    "        tracknumber = int(tracknumber[0])\n",
    "        db.execute(\"UPDATE songs SET tracknumber = ? WHERE filename = ?\", (tracknumber, row[1]))\n",
    "        pkl_path = Path(row[2]).with_suffix(\".pkl\")\n",
    "        with open(pkl_path, \"rb\") as f:\n",
    "            data = pickle.load(f)\n",
    "        data[\"tracknumber\"] = tracknumber\n",
    "        with open(pkl_path, \"wb\") as f:\n",
    "            pickle.dump(data, f)\n"
   ]
  },
  {
   "cell_type": "code",
   "execution_count": 34,
   "metadata": {},
   "outputs": [
    {
     "name": "stdout",
     "output_type": "stream",
     "text": [
      "id: 0\n",
      "filename: 0\n",
      "filepath: 0\n",
      "album_folder: 0\n",
      "artist_folder: 0\n",
      "filesize: 0\n",
      "title: 0\n",
      "artist: 0\n",
      "album: 0\n",
      "year: 55\n",
      "tracknumber: 129\n",
      "genre: 0\n",
      "top_5_genres: 0\n"
     ]
    }
   ],
   "source": [
    "# df.isna().sum() equivalent\n",
    "\n",
    "result = db.fetchall(\"PRAGMA table_info(songs)\")\n",
    "columns = [column[1] for column in result]\n",
    "\n",
    "# For each column, count the number of rows with NULL values\n",
    "for column in columns:\n",
    "    count = db.fetchone(f\"SELECT COUNT(*) FROM songs WHERE {column} IS NULL\")[0]\n",
    "    print(f\"{column}: {count}\")"
   ]
  },
  {
   "cell_type": "code",
   "execution_count": 35,
   "metadata": {},
   "outputs": [
    {
     "name": "stdout",
     "output_type": "stream",
     "text": [
      "Sinkane - Hold Tight.mp3   -----   Sinkane - Hold Tight\n",
      "Chinese man records - Bouncefloor.mp3   -----   Chinese man records - Bouncefloor\n",
      "Chinese man records - BB's Electrify BUGS.mp3   -----   Chinese man records - BB's Electrify BUGS\n",
      "Chinese man records - Searching for Hiero.mp3   -----   Chinese man records - Searching for Hiero\n",
      "Chinese man records - Pudding à l'Arsenic.mp3   -----   Pudding à l'Arsenic\n",
      "Peter Tosh - Rastafari Is.mp3   -----   Rastafari Is\n",
      "Peter Tosh - Mama Africa.mp3   -----   Peter Tosh - Mama Africa\n",
      "Magnetic Man -- Going Nowhere ft Alex Clare (Live Lounge!).mp3   -----   Magnetic Man -- Going Nowhere ft Alex Clare (Live Lounge!).mp3\n",
      "Johnny Cash and June Carter - It Ain't Me, Babe.mp3   -----   Johnny Cash and June Carter - It Ain't Me, Babe\n",
      "Johnny Cash & Bob Dylan - Complete Nashville Sessions - 1969.mp3   -----   AlbumWrap Album\n",
      "Johnny Cash - Country Classics 1994 - Album.mp3   -----   All\n",
      "Musica Country - Johnny Cash - Man In Black.mp3   -----   Man in Black\n",
      "You always you (live) - Patrice.mp3   -----   You always you (live)\n",
      "Jamie Cullum and Katie Melua - LoveCats (Brits 2004).mp3   -----   Jamie Cullum and Katie Melua - LoveCats (Brits 2004)\n",
      "Katie Melua - Blowin' In The Wind (Live Taratata).mp3   -----   Blowin' In The Wind (Live Taratata)\n",
      "C2C (Coups 2 Cross) - DMC World Final 2004.mp3   -----   DMC 2004 Set\n",
      "C2C - Dmc World Championship 2005.mp3   -----   C2C - Dmc World Championship 2005\n",
      "C2C (Coups 2 Cross) - DMC World Final 2003.mp3   -----   DMC 2003 Set\n",
      "19_primer_hidden_track-ftd.mp3   -----   Primer (Hidden Track)\n",
      "B 2 _ WANDERING EYE.mp3   -----   B 2 | WANDERING EYE\n",
      "B 1 _ PULL THE CATCH.mp3   -----   B 1 | PULL THE CATCH\n",
      "Cockney Dream _ Requiem For a Dream _ Chrispy 2010 VIP Remix_(720p).mp3   -----   Requiem For a Dream\n",
      "Boy Kid Cloud - How It Looks_(720p).mp3   -----   How It Looks\n",
      "Zomboy - Falcon 6.mp3   -----   Falcon 6\n",
      "Downlink - Deep Space [FULL - HD]_(720p).mp3   -----   Deep Space\n",
      "DWB - Refukulated (Original Mix).mp3   -----   Refukulated\n",
      "Bare & Datsik - King Kong.mp3   -----   King Kong\n",
      "Rage Against The Machine - Killing In The Name Of (Davr Dubstep Remix) [HD]_(720p).mp3   -----   Killing In The Name Of\n",
      "Cyberoptics - Pimpin (Original Mix) (HD)_(720p).mp3   -----   Pimpin\n",
      "Camo & Krooked feat TC - Make The Call - Drum and Bass Mix_(720p).mp3   -----   Make The Call (Drum and Bass Mix)\n",
      "DJ Kayper - Gimme Some (Engine-EarZ Remix) + Download_(720p).mp3   -----   Gimme Some\n",
      "Deadmau5 - Raise Your Weapon ( Madeon Remix DRM ).mp3   -----   Raise Your Weapon\n",
      "Fearless Ft. Sonna Relle - Everywhere & Nowhere (Hyperstyle Remix)_(720p).mp3   -----   Everywhere & Nowhere\n",
      "Coyote Kisses - Acid Wolfpack_(720p).mp3   -----   Coyote Kisses\n",
      "Captain Panic! & Rekoil - Get up.mp3   -----   Get up\n",
      "Virus Syndicate - Talk To Frank (J. Rabbit Remix)_(720p).mp3   -----   Talk To Frank\n",
      "Flux Pavilion - Bass Cannon (Zomboy Remix) (Preview 128kbps)_(720p).mp3   -----   Bass Cannon\n",
      "Ed Sheeran - You Need Me, I Don't Need You (Gemini Remix)_(720p).mp3   -----   You Need Me, I Don't Need You\n",
      "Skrillex - First Of The Year (Equinox).mp3   -----   First Of The Year (Equinox)\n",
      "Messinian - Holy Ghost (Helicopter Showdown and Sluggo Remix).mp3   -----   Holy Ghost\n",
      "12th Canvas - Understood [HD]_(720p).mp3   -----   Understood\n",
      "Feed Me - Cloudburn (ft. Tasha Baxter).mp3   -----   Cloudburn\n",
      "Rusko - Everyday (Netsky Remix).mp3   -----   Everyday\n",
      "Jamburglar - Haters [HD]_(720p).mp3   -----   Haters\n",
      "Porter Robinson - The State (SKisM Remix)_(720p).mp3   -----   The State\n",
      "Borgore - Gloryhole_(720p).mp3   -----   Gloryhole\n",
      "Foreign Beggars feat. Skrillex - Still Getting It (Original Mix).mp3   -----   Still Getting It\n",
      "Dskotek - Mega Man_(720p).mp3   -----   Mega Man\n",
      "StereoHeroes - Wild Child (Le Castle Vania Remix)_(720p).mp3   -----   Wild Child\n",
      "Nero - 'Crush On You' (Knife Party Remix)_(720p).mp3   -----   'Crush On You'\n",
      "Nero - Promises (Skrillex Remix).mp3   -----   Promises\n",
      "Kerli - Army Of Love (Centron remix).mp3   -----   Army Of Love\n",
      "Helicopter Showdown - Dramatron_(720p).mp3   -----   Dramatron\n",
      "Calvin Harris - Flashback (Millions Like Us Remix).mp3   -----   Flashback\n",
      "DOCTRINE - Deathkick [HQ] Free Download_(720p).mp3   -----   Deathkick\n",
      "Paradigm - Dreamer (Original Mix)_(720p).mp3   -----   Dreamer\n",
      "Feed Me - Pink Lady (Original Mix) [HQ]_(720p).mp3   -----   Pink Lady\n",
      "The Light Iris - I Hate Song Titles (iNexus Remix).mp3   -----   I Hate Song Titles\n",
      "Sunlight 2011 - Modestep - (Calvertron & Helicopter Showdown Remix).mp3   -----   Sunlight 2011\n",
      "Borgore feat Adi Ulmansky - Someone Else's (Document One remix)_(720p).mp3   -----   Someone Else's\n",
      "Unison - Knife Party.mp3   -----   Unison\n",
      "Zomboy - Pirate Hooker [HD]_(720p).mp3   -----   Pirate Hooker\n",
      "The Moody Blues -- White Satin (Zeds Dead Remix) [HD]_(720p).mp3   -----   White Satin\n",
      "Vortek - Walk With Me_(720p).mp3   -----   Walk With Me\n",
      "DJ Russ P feat. MK - Monster (DWB Remix)_(720p).mp3   -----   Monster\n",
      "Foreign Beggars ft Noisia - Contact.mp3   -----   Contact\n",
      "Logun - Dat Ass (Crizzly Drumstep Remix).mp3   -----   Dat Ass\n",
      "ADROA - Battlefield VIP.mp3   -----   Battlefield VIP\n",
      "Hard In Da Paint ((Bellizio Remix) Crizzly Edit).mp3   -----   Hard In Da Paint\n",
      "Fable ft. BLO - Slipstream VIP_(720p).mp3   -----   Slipstream VIP\n",
      "Cyberoptics & D-Jahsta - Dr. Frank [HD]_(720p).mp3   -----   Dr. Frank\n",
      "Example - Changed The Way You Kiss Me (Mensah Remix) (OUT NOW)_(720p).mp3   -----   Changed The Way You Kiss Me\n",
      "Not To Play With.mp3   -----   Not To Play With\n",
      "ROOTS - SILENT TREATMENT INTRO.mp3   -----   ROOTS - SILENT TREATMENT INTRO\n",
      "CIARA- BODY PARTY - KAYTRANADA'S NEVER GOING TO RELEASE THIS SHIETT.mp3   -----   CIARA- BODY PARTY - KAYTRANADA'S NEVER GOING TO RELEASE THIS SHIETT\n",
      "Show Out.mp3   -----   Show Out\n",
      "maybe watson - ps remix instr.mp3   -----   maybe watson - ps remix instr\n",
      "Jill Scott - It's Love (Kaytranada Edition).mp3   -----   Jill Scott - It's Love (Kaytranada Edition)\n",
      "JAY DEE - COME N GET IT - INTERLUDE.mp3   -----   JAY DEE - COME N GET IT - INTERLUDE\n",
      "Jupiter.mp3   -----   Jupiter\n",
      "Robert Nelson & Kaytradamus - Charlotte (instr).mp3   -----   Robert Nelson & Kaytradamus - Charlotte (instr)\n",
      "Wanna Go Up.mp3   -----   Wanna Go Up\n",
      "ATM JAM (ALTERNATE MIX).mp3   -----   ATM JAM (ALTERNATE MIX)\n",
      "TaDaTa (2011).mp3   -----   TaDaTa (2011)\n",
      "THE DAY AFTER.mp3   -----   THE DAY AFTER\n",
      "MISSY - IM REALLY REALLY REALLY HOT.mp3   -----   MISSY - IM REALLY REALLY REALLY HOT\n",
      "FOREVER LASTING NIGHT.mp3   -----   FOREVER LASTING NIGHT\n",
      "Sober Thoughts (w_ Goldlink).mp3   -----   Sober Thoughts (w/ Goldlink)\n",
      "Baby Soom Ft T-DoG-Frank Mr-Dont Go.mp3   -----   Baby Soom Ft T-DoG-Frank Mr-Dont Go\n",
      "Freestyle1.mp3   -----   Freestyle n°1 à GMT (Ft Soom T)\n",
      "Freestyle2.mp3   -----   Freestyle n°2 à GMT (Ft Soom T)\n",
      "Freestyle3.mp3   -----   Freestyle n°3 à GMT (Ft Soom T)\n",
      "superstition acoustic.mp3   -----   superstition\n",
      "dont you know.mp3   -----   dont you know.mp3\n",
      "rockabye 2.mp3   -----   rockabye\n",
      "when will  our time come 6.mp3   -----   when will  our time come 6\n",
      "i will.mp3   -----   i will\n",
      "i hope there's love.mp3   -----   i hope there's love\n",
      "Ntm - Foutre Le Feu.mp3   -----   Ntm - Foutre Le Feu\n",
      "Midnight Bounce.mp3   -----   Midnight Bounce\n",
      "A Conquest Of The Subconcious.mp3   -----   A Conquest Of The Subconcious\n",
      "Funky Junky.mp3   -----   Funky Junk\n",
      "Gemalude.mp3   -----   Gemalude\n",
      "Intro.mp3   -----   Intro\n",
      "Untitled.mp3   -----   Untitled \n",
      "Over You.mp3   -----   Over You\n",
      "Get Down.mp3   -----   Get Down\n",
      "Classical (Outro).mp3   -----   Classical (Outro)\n",
      "Flying-Turns-Cardboard-Lamb-Produced-By-Gesaffelstein (mp3-music.su).mp3   -----   Cardboard Lamb (Produced By Gesaffelstein)\n",
      "The-shoes-Cover-your-eyes-gesaffelstein-remix (mp3-music.su).mp3   -----   Cover Your Eyes (Gesaffelstein\n",
      "ClashMusic-DjMix-Podcast-Gesaffelstein.mp3   -----   ClashMusic DJ Mix Podcast - Gesaffelstein\n",
      "Gesaffelstein-Liberte (mp3-music.su).mp3   -----   Gesaffelstein-Liberte (mp3-music.su)\n",
      "Gesaffelstein-Start-Resistance (mp3-music.su).mp3   -----   Gesaffelstein-Start-Resistance (mp3-music.su)\n",
      "Gesaffelstein-Permanent-Vision (mp3-music.su).mp3   -----   Gesaffelstein-Permanent-Vision (mp3-music.su)\n",
      "Gesaffelstein-Midnight-Anxiety-Theme (mp3-music.su).mp3   -----   Midnight Anxiety Theme\n",
      "Limp Bizkit - I Would for You.mp3   -----   I Would for You\n",
      "Don't Worry Be Happy (Bobby McFerrin Cover).mp3   -----   Don't Worry Be Happy\n",
      "BLACKBIRD (The Beatles Cover).mp3   -----   BLACKBIRD\n",
      "Grenade (Bruno Mars Cover).mp3   -----   Grenade\n",
      "Little Boxes - Walk off the Earth.mp3   -----   Little Boxes - Walk off the Earth\n",
      "Love Sponge - Gianni and Sarah [Walk off the Earth].mp3   -----   Love Sponge - Gianni and Sarah [Walk off the Earth]\n",
      "Yesterday (Beatles Cover).mp3   -----   Yesterday (Beatles Cover)\n",
      "I Knew You Were Trouble - WALK OFF THE EARTH Feat. KRNFX.mp3   -----   I Knew You Were Trouble - WALK OFF THE EARTH Feat. KRNFX\n",
      "Roll Up (Wiz Khalifa Cover).mp3   -----   Roll Up (Wiz Khalifa Cover)\n",
      "Take A Dirty Picture (Taio Cruz Cover).mp3   -----   Take A Dirty Picture\n",
      "SunBurnt Hand (Danny Tieger Cover).mp3   -----   SunBurnt Hand\n",
      "SAY IT AINT SO - Sarah Blackwood Feat.Emily Bones (Weezer).mp3   -----   SAY IT AINT SO - Sarah Blackwood Feat.Emily Bones (Weezer)\n",
      "- Track11.mp3   -----   - Track11\n",
      "- Track08.mp3   -----   - Track08\n"
     ]
    }
   ],
   "source": [
    "# print the rows where value for tracknumber is NULL\n",
    "tracknumber_none = db.fetchall(\"SELECT * FROM songs WHERE tracknumber IS NULL OR tracknumber = '' OR tracknumber = ' '\")\n",
    "for row in tracknumber_none:\n",
    "    print(f\"{row[1]}   -----   {row[6]}\")"
   ]
  },
  {
   "cell_type": "code",
   "execution_count": 36,
   "metadata": {},
   "outputs": [],
   "source": [
    "########### Unique artist\n",
    "\n",
    "# for eah row in sqlite, read the filepath, extract the str between the third and fourth  / and compare to the value for artist_folder\n",
    "# if different, add the path to a list\n",
    "db = DatabaseManager(SQLITE_INSTANCE)\n",
    "\n",
    "artist_diff = []\n",
    "for row in db.fetchall(\"SELECT * FROM songs\"):\n",
    "    filepath = row[2]\n",
    "    artist_folder = row[4]\n",
    "    if filepath.split(\"/\")[3] != artist_folder:\n",
    "        artist_diff.append(filepath)"
   ]
  },
  {
   "cell_type": "code",
   "execution_count": 37,
   "metadata": {},
   "outputs": [
    {
     "name": "stdout",
     "output_type": "stream",
     "text": [
      "MegaSet/Ska-P/Ska-P - 2008 - Lágrimas Y Gozos/02 - El Libertador.mp3\n",
      "MegaSet/Ska-P/Ska-P - 2008 - Lágrimas Y Gozos/10 - El Tercero de la Foto.mp3\n",
      "MegaSet/Ska-P/Ska-P - 2008 - Lágrimas Y Gozos/12 - Que Puedo Decir.mp3\n",
      "MegaSet/Ska-P/Ska-P - 2008 - Lágrimas Y Gozos/03 - Crimen Sollicitationis.mp3\n",
      "MegaSet/Ska-P/Ska-P - 2008 - Lágrimas Y Gozos/07 - El Imperio Caera.mp3\n",
      "MegaSet/Ska-P/Ska-P - 2008 - Lágrimas Y Gozos/04 - Fuego y Miedo.mp3\n",
      "MegaSet/Ska-P/Ska-P - 2008 - Lágrimas Y Gozos/08 - Los Hijos Bastardos de la Globalizacion.mp3\n",
      "MegaSet/Ska-P/Ska-P - 2008 - Lágrimas Y Gozos/01 - Ni Fu Ni Fa.mp3\n",
      "MegaSet/Ska-P/Ska-P - 2008 - Lágrimas Y Gozos/09 - Vandalo.mp3\n",
      "MegaSet/Ska-P/Ska-P - 2008 - Lágrimas Y Gozos/06 - Gasta Claus.mp3\n",
      "MegaSet/Ska-P/Ska-P - 2008 - Lágrimas Y Gozos/11 - Decadencia.mp3\n",
      "MegaSet/Ska-P/Ska-P - 2000 - Planeta Eskoria/09 - Ska-P - A La Mierda.mp3\n",
      "MegaSet/Ska-P/Ska-P - 2000 - Planeta Eskoria/10 - Ska-P - E.T.T.s.mp3\n",
      "MegaSet/Ska-P/Ska-P - 2000 - Planeta Eskoria/07 - Ska-P - Eres Un@ Más.mp3\n",
      "MegaSet/Ska-P/Ska-P - 2000 - Planeta Eskoria/05 - Ska-P - Naval Xixón.mp3\n",
      "MegaSet/Ska-P/Ska-P - 2000 - Planeta Eskoria/11 - Ska-P - Lucrecia.mp3\n",
      "MegaSet/Ska-P/Ska-P - 2000 - Planeta Eskoria/01 - Ska-P - Planeta Eskoria.mp3\n",
      "MegaSet/Ska-P/Ska-P - 2000 - Planeta Eskoria/08 - Ska-P - Derecho De Admisión.mp3\n",
      "MegaSet/Ska-P/Ska-P - 2000 - Planeta Eskoria/13 - Ska-P - Violencia Machista.mp3\n",
      "MegaSet/Ska-P/Ska-P - 2000 - Planeta Eskoria/02 - Ska-P - Vergüenza.mp3\n",
      "MegaSet/Ska-P/Ska-P - 2000 - Planeta Eskoria/03 - Ska-P - Como Me Pongo.mp3\n",
      "MegaSet/Ska-P/Ska-P - 2000 - Planeta Eskoria/14 - Ska-P - Mestizaje.mp3\n",
      "MegaSet/Ska-P/Ska-P - 2000 - Planeta Eskoria/06 - Ska-P - La Mosca Cojonera.mp3\n",
      "MegaSet/Ska-P/Ska-P - 2000 - Planeta Eskoria/04 - Ska-P - El Auténtico.mp3\n",
      "MegaSet/Ska-P/Ska-P - 2000 - Planeta Eskoria/12 - Ska-P - Tío Sam.mp3\n",
      "MegaSet/Ska-P/Ska-P - 2002 - ¡¡Que Corra La Voz!!/09 - Ska-P - Insensibilidad.mp3\n",
      "MegaSet/Ska-P/Ska-P - 2002 - ¡¡Que Corra La Voz!!/01 - Ska-P - La Estampida.mp3\n",
      "MegaSet/Ska-P/Ska-P - 2002 - ¡¡Que Corra La Voz!!/03 - Ska-P - Welcome To Hell.mp3\n",
      "MegaSet/Ska-P/Ska-P - 2002 - ¡¡Que Corra La Voz!!/06 - Ska-P - Intifada.mp3\n",
      "MegaSet/Ska-P/Ska-P - 2002 - ¡¡Que Corra La Voz!!/04 - Ska-P - Casposos.mp3\n"
     ]
    }
   ],
   "source": [
    "for art in artist_diff[40:70]:\n",
    "    print(art)"
   ]
  },
  {
   "cell_type": "code",
   "execution_count": null,
   "metadata": {},
   "outputs": [],
   "source": [
    "######################################################################################################"
   ]
  },
  {
   "cell_type": "code",
   "execution_count": 38,
   "metadata": {},
   "outputs": [
    {
     "name": "stdout",
     "output_type": "stream",
     "text": [
      "(0, 'id', 'INTEGER', 0, None, 1)\n",
      "(1, 'filename', 'TEXT', 1, None, 0)\n",
      "(2, 'filepath', 'TEXT', 1, None, 0)\n",
      "(3, 'album_folder', 'TEXT', 1, None, 0)\n",
      "(4, 'artist_folder', 'TEXT', 1, None, 0)\n",
      "(5, 'filesize', 'REAL', 1, None, 0)\n",
      "(6, 'title', 'TEXT', 1, None, 0)\n",
      "(7, 'artist', 'TEXT', 1, None, 0)\n",
      "(8, 'album', 'TEXT', 1, None, 0)\n",
      "(9, 'year', 'INTEGER', 0, None, 0)\n",
      "(10, 'tracknumber', 'INTEGER', 0, None, 0)\n",
      "(11, 'genre', 'TEXT', 0, None, 0)\n",
      "(12, 'top_5_genres', 'TEXT', 0, None, 0)\n"
     ]
    }
   ],
   "source": [
    "db = DatabaseManager(SQLITE_INSTANCE)\n",
    "\n",
    "query = \"PRAGMA table_info(songs);\"\n",
    "columns_info = db.fetchall(query)\n",
    "for column_info in columns_info:\n",
    "    print(column_info)"
   ]
  },
  {
   "cell_type": "code",
   "execution_count": 39,
   "metadata": {},
   "outputs": [],
   "source": [
    "query = \"SELECT * FROM songs WHERE album LIKE '%/%'\"\n",
    "rows = db.fetchall(query)\n",
    "for row in rows[:5]:\n",
    "    print(f\"Filename: {row[1]}\\nFilepath: {row[2]}\\nAlbum: {row[8]}\\n\")"
   ]
  },
  {
   "cell_type": "code",
   "execution_count": 40,
   "metadata": {},
   "outputs": [],
   "source": [
    "for row in rows:\n",
    "    # Split the album name on slashes and keep only the part after the last slash\n",
    "    new_album = row[8].split('/')[-1]\n",
    "    # Update the album column for this row\n",
    "    query = f\"UPDATE songs SET album = ? WHERE id = ?\"\n",
    "    db.execute(query, (new_album, row[0]))\n",
    "\n"
   ]
  },
  {
   "cell_type": "code",
   "execution_count": 41,
   "metadata": {},
   "outputs": [],
   "source": [
    "query = \"SELECT * FROM songs WHERE album LIKE '%/%'\"\n",
    "rows = db.fetchall(query)\n",
    "for row in rows[:5]:\n",
    "    print(f\"Filename: {row[1]}\\nFilepath: {row[2]}\\nAlbum: {row[8]}\\n\")"
   ]
  },
  {
   "cell_type": "code",
   "execution_count": 42,
   "metadata": {},
   "outputs": [
    {
     "name": "stdout",
     "output_type": "stream",
     "text": [
      "id: 1\n",
      "filename: 12 - Vous avez l'heure.mp3\n",
      "filepath: MegaSet/Louise Attaque/Louise Attaque-1998-/12 - Vous avez l'heure.mp3\n",
      "album_folder: MegaSet/Louise Attaque/Louise Attaque-1998-\n",
      "artist_folder: Louise Attaque\n",
      "filesize: 3.41\n",
      "title: Vous avez l’heure\n",
      "artist: Louise Attaque\n",
      "album: Louise attaque\n",
      "year: 1997\n",
      "tracknumber: 12\n",
      "genre: folk\n",
      "top_5_genres: folk,country,pop,rock,popfolk\n"
     ]
    }
   ],
   "source": [
    "# Fetch column information\n",
    "query = \"PRAGMA table_info(songs);\"\n",
    "columns_info = db.fetchall(query)\n",
    "\n",
    "# Fetch the first row\n",
    "query = \"SELECT * FROM songs LIMIT 1\"\n",
    "row = db.fetchone(query)\n",
    "\n",
    "# Pretty print column names and values\n",
    "if row is not None:\n",
    "    for i in range(len(row)):\n",
    "        print(f\"{columns_info[i][1]}: {row[i]}\")\n",
    "else:\n",
    "    print(\"No rows found in the table\")"
   ]
  },
  {
   "cell_type": "code",
   "execution_count": null,
   "metadata": {},
   "outputs": [],
   "source": [
    "# Fetch all rows\n",
    "query = \"SELECT * FROM songs\"\n",
    "rows = db.fetchall(query)\n",
    "\n",
    "for row in rows:\n",
    "    # Construct the full path for the artist folder\n",
    "    new_artist_folder = 'MegaSet/' + row[4]\n",
    "    # Update the artist_folder column for this row\n",
    "    query = \"UPDATE songs SET artist_folder = ? WHERE id = ?\"\n",
    "    db.execute(query, (new_artist_folder, row[0]))"
   ]
  }
 ],
 "metadata": {
  "kernelspec": {
   "display_name": ".venv",
   "language": "python",
   "name": "python3"
  },
  "language_info": {
   "codemirror_mode": {
    "name": "ipython",
    "version": 3
   },
   "file_extension": ".py",
   "mimetype": "text/x-python",
   "name": "python",
   "nbconvert_exporter": "python",
   "pygments_lexer": "ipython3",
   "version": "3.10.12"
  }
 },
 "nbformat": 4,
 "nbformat_minor": 2
}
